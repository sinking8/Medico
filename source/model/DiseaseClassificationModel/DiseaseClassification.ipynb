{
 "cells": [
  {
   "cell_type": "code",
   "execution_count": 1,
   "metadata": {},
   "outputs": [],
   "source": [
    "import pandas as pd\n",
    "import numpy as np\n",
    "import matplotlib.pyplot as plt\n",
    "from sklearn.preprocessing import LabelEncoder"
   ]
  },
  {
   "cell_type": "code",
   "execution_count": 2,
   "metadata": {},
   "outputs": [],
   "source": [
    "import os \n",
    "data_set_dir = os.getcwd()+\"//Dataset\"\n",
    "train_dir = \"//training.csv\"\n",
    "test_dir   = \"//testing.csv\""
   ]
  },
  {
   "cell_type": "code",
   "execution_count": 3,
   "metadata": {},
   "outputs": [],
   "source": [
    "####Test Data####\n",
    "test_data = pd.DataFrame(pd.read_csv(data_set_dir+test_dir))\n",
    "X_test = test_data.drop(\"prognosis\",axis=1).values\n",
    "y_test = test_data['prognosis']\n",
    "#print(test_data.head(2))\n",
    "#print(test_x.shape)\n",
    "#print(test_Y.shape)\n"
   ]
  },
  {
   "cell_type": "markdown",
   "metadata": {},
   "source": [
    "**Test Data**<br>\n",
    "\n",
    "itching  skin_rash  nodal_skin_eruptions  continuous_sneezing  shivering  \\\n",
    "0        1          1                     1                    0          0   \n",
    "1        0          0                     0                    1          1   \n",
    "\n",
    "   chills  joint_pain  stomach_pain  acidity  ulcers_on_tongue  ...  \\\n",
    "0       0           0             0        0                 0  ...   \n",
    "1       1           0             0        0                 0  ...   \n",
    "\n",
    "   blackheads  scurring  skin_peeling  silver_like_dusting  \\\n",
    "0           0         0             0                    0   \n",
    "1           0         0             0                    0   \n",
    "\n",
    "   small_dents_in_nails  inflammatory_nails  blister  red_sore_around_nose  \\\n",
    "0                     0                   0        0                     0   \n",
    "1                     0                   0        0                     0   \n",
    "\n",
    "   yellow_crust_ooze         prognosis  \n",
    "0                  0  Fungal infection  \n",
    "1                  0           Allergy  \n",
    "\n",
    "[2 rows x 133 columns]\n",
    "<br><br><br>\n",
    "**X_Test Shape :**  (41, 132)<br>\n",
    "**Y_Test Shape :**  (41,)<br>"
   ]
  },
  {
   "cell_type": "code",
   "execution_count": 4,
   "metadata": {},
   "outputs": [],
   "source": [
    "##Training Data ##\n",
    "train_data = pd.DataFrame(pd.read_csv(data_set_dir+train_dir))\n",
    "#print(train_data.head(1))\n",
    "#training set \n",
    "X_train= train_data.drop(\"prognosis\",axis=1).values\n",
    "y_train = train_data['prognosis']"
   ]
  },
  {
   "cell_type": "code",
   "execution_count": 5,
   "metadata": {},
   "outputs": [
    {
     "name": "stdout",
     "output_type": "stream",
     "text": [
      "X Train shape :  (4920, 132)\n",
      "[[1 1 1 0 0 0 0 0 0 0 0 0 0 0 0 0 0 0 0 0 0 0 0 0 0 0 0 0 0 0 0 0 0 0 0 0\n",
      "  0 0 0 0 0 0 0 0 0 0 0 0 0 0 0 0 0 0 0 0 0 0 0 0 0 0 0 0 0 0 0 0 0 0 0 0\n",
      "  0 0 0 0 0 0 0 0 0 0 0 0 0 0 0 0 0 0 0 0 0 0 0 0 0 0 0 0 0 0 1 0 0 0 0 0\n",
      "  0 0 0 0 0 0 0 0 0 0 0 0 0 0 0 0 0 0 0 0 0 0 0 0]\n",
      " [0 1 1 0 0 0 0 0 0 0 0 0 0 0 0 0 0 0 0 0 0 0 0 0 0 0 0 0 0 0 0 0 0 0 0 0\n",
      "  0 0 0 0 0 0 0 0 0 0 0 0 0 0 0 0 0 0 0 0 0 0 0 0 0 0 0 0 0 0 0 0 0 0 0 0\n",
      "  0 0 0 0 0 0 0 0 0 0 0 0 0 0 0 0 0 0 0 0 0 0 0 0 0 0 0 0 0 0 1 0 0 0 0 0\n",
      "  0 0 0 0 0 0 0 0 0 0 0 0 0 0 0 0 0 0 0 0 0 0 0 0]\n",
      " [1 0 1 0 0 0 0 0 0 0 0 0 0 0 0 0 0 0 0 0 0 0 0 0 0 0 0 0 0 0 0 0 0 0 0 0\n",
      "  0 0 0 0 0 0 0 0 0 0 0 0 0 0 0 0 0 0 0 0 0 0 0 0 0 0 0 0 0 0 0 0 0 0 0 0\n",
      "  0 0 0 0 0 0 0 0 0 0 0 0 0 0 0 0 0 0 0 0 0 0 0 0 0 0 0 0 0 0 1 0 0 0 0 0\n",
      "  0 0 0 0 0 0 0 0 0 0 0 0 0 0 0 0 0 0 0 0 0 0 0 0]]\n"
     ]
    }
   ],
   "source": [
    "y_train_unique = y_train.unique()\n",
    "#print(y_train.shape)\n",
    "#print(\"y_Train :\",y_train.unique())\n",
    "#print(\"y_Train_unique\",y_train_unique.shape)\n",
    "print(\"X Train shape : \",X_train.shape)\n",
    "print(X_train[:3])"
   ]
  },
  {
   "cell_type": "markdown",
   "metadata": {},
   "source": [
    "**X_Train shape :  (4920, 132)**<br>\n",
    "\n",
    "**y_Train** : ['Fungal infection' 'Allergy' 'GERD' 'Chronic cholestasis' 'Drug Reaction'\n",
    " 'Peptic ulcer diseae' 'AIDS' 'Diabetes ' 'Gastroenteritis'\n",
    " 'Bronchial Asthma' 'Hypertension ' 'Migraine' 'Cervical spondylosis'\n",
    " 'Paralysis (brain hemorrhage)' 'Jaundice' 'Malaria' 'Chicken pox'\n",
    " 'Dengue' 'Typhoid' 'hepatitis A' 'Hepatitis B' 'Hepatitis C'\n",
    " 'Hepatitis D' 'Hepatitis E' 'Alcoholic hepatitis' 'Tuberculosis'\n",
    " 'Common Cold' 'Pneumonia' 'Dimorphic hemmorhoids(piles)' 'Heart attack'\n",
    " 'Varicose veins' 'Hypothyroidism' 'Hyperthyroidism' 'Hypoglycemia'\n",
    " 'Osteoarthristis' 'Arthritis' '(vertigo) Paroymsal  Positional Vertigo'\n",
    " 'Acne' 'Urinary tract infection' 'Psoriasis' 'Impetigo']<br>\n",
    "**y_train_unique shape** =  (41,1)"
   ]
  },
  {
   "cell_type": "code",
   "execution_count": 6,
   "metadata": {},
   "outputs": [
    {
     "name": "stdout",
     "output_type": "stream",
     "text": [
      "[15  4 16  9 14 33  1 12 17  6 23 30  7 32 28 29  8 11 37 40 19 20 21 22\n",
      "  3 36 10 34 13 18 39 26 24 25 31  5  0  2 38 35 27]\n",
      "(41,)\n"
     ]
    }
   ],
   "source": [
    "label_encoder = LabelEncoder()\n",
    "y_train_unique_encoded = label_encoder.fit_transform(y_train_unique)\n",
    "y_dict = {}\n",
    "for i in range(len(y_train_unique)):\n",
    "    y_dict[y_train_unique[i]] = y_train_unique_encoded[i]\n",
    "    \n",
    "#print(Y_dict)\n",
    "##Label Encoding train_Y\n",
    "le = label_encoder.fit(y_train)\n",
    "y_train_encoded = le.transform(y_train)\n",
    "y_train_encoded = np.ravel(y_train_encoded)\n",
    "##Label Encoding test_Y\n",
    "y_test_encoded  =le.transform(y_test)\n",
    "y_test_encoded = np.ravel(y_test_encoded)\n",
    "print(y_test_encoded)\n",
    "print(y_test_encoded.shape)"
   ]
  },
  {
   "cell_type": "markdown",
   "metadata": {},
   "source": [
    "**Label Encoded Y**\n",
    "\n",
    "{'Fungal infection': 15, 'Allergy': 4, 'GERD': 16, 'Chronic cholestasis': 9, 'Drug Reaction': 14, 'Peptic ulcer diseae': 33, 'AIDS': 1, 'Diabetes ': 12, 'Gastroenteritis': 17, 'Bronchial Asthma': 6, 'Hypertension ': 23, 'Migraine': 30, 'Cervical spondylosis': 7, 'Paralysis (brain hemorrhage)': 32, 'Jaundice': 28, 'Malaria': 29, 'Chicken pox': 8, 'Dengue': 11, 'Typhoid': 37, 'hepatitis A': 40, 'Hepatitis B': 19, 'Hepatitis C': 20, 'Hepatitis D': 21, 'Hepatitis E': 22, 'Alcoholic hepatitis': 3, 'Tuberculosis': 36, 'Common Cold': 10, 'Pneumonia': 34, 'Dimorphic hemmorhoids(piles)': 13, 'Heart attack': 18, 'Varicose veins': 39, 'Hypothyroidism': 26, 'Hyperthyroidism': 24, 'Hypoglycemia': 25, 'Osteoarthristis': 31, 'Arthritis': 5, '(vertigo) Paroymsal  Positional Vertigo': 0, 'Acne': 2, 'Urinary tract infection': 38, 'Psoriasis': 35, 'Impetigo': 27}m"
   ]
  },
  {
   "cell_type": "code",
   "execution_count": 7,
   "metadata": {},
   "outputs": [],
   "source": [
    "import tensorflow as tf\n",
    "from tensorflow import keras\n",
    "from tensorflow.keras.models import Sequential\n",
    "from tensorflow.keras.layers import Dense,Flatten,Dropout\n",
    "from tensorflow.keras.callbacks import EarlyStopping"
   ]
  },
  {
   "cell_type": "code",
   "execution_count": 20,
   "metadata": {},
   "outputs": [],
   "source": [
    "model = Sequential()\n",
    "\n",
    "model.add(Dense(units=132,activation='relu'))\n",
    "model.add(Dropout(0.6))\n",
    "model.add(Dense(units=10,activation='relu'))\n",
    "\n",
    "model.add(Dense(units =41,activation='softmax'))\n",
    "##Classification --> categorical cross entropy\n",
    "model.compile(loss='sparse_categorical_crossentropy', optimizer='adam')"
   ]
  },
  {
   "cell_type": "code",
   "execution_count": 21,
   "metadata": {},
   "outputs": [],
   "source": [
    "##EarlyStopping to prevent OverFitting \n",
    "early_stop = EarlyStopping(monitor='val_loss', mode='min', verbose=1, patience=25)"
   ]
  },
  {
   "cell_type": "code",
   "execution_count": 22,
   "metadata": {},
   "outputs": [
    {
     "name": "stdout",
     "output_type": "stream",
     "text": [
      "WARNING:tensorflow:Large dropout rate: 0.6 (>0.5). In TensorFlow 2.x, dropout() uses dropout rate instead of keep_prob. Please ensure that this is intended.\n",
      "Train on 4920 samples, validate on 41 samples\n",
      "Epoch 1/600\n",
      "WARNING:tensorflow:Large dropout rate: 0.6 (>0.5). In TensorFlow 2.x, dropout() uses dropout rate instead of keep_prob. Please ensure that this is intended.\n",
      "WARNING:tensorflow:Large dropout rate: 0.6 (>0.5). In TensorFlow 2.x, dropout() uses dropout rate instead of keep_prob. Please ensure that this is intended.\n",
      "4920/4920 [==============================] - 0s 100us/sample - loss: 3.0426 - val_loss: 1.7732\n",
      "Epoch 2/600\n",
      "4920/4920 [==============================] - 0s 47us/sample - loss: 1.2169 - val_loss: 0.3057\n",
      "Epoch 3/600\n",
      "4920/4920 [==============================] - 0s 46us/sample - loss: 0.3942 - val_loss: 0.0595\n",
      "Epoch 4/600\n",
      "4920/4920 [==============================] - 0s 47us/sample - loss: 0.1928 - val_loss: 0.0178\n",
      "Epoch 5/600\n",
      "4920/4920 [==============================] - 0s 50us/sample - loss: 0.1148 - val_loss: 0.0064\n",
      "Epoch 6/600\n",
      "4920/4920 [==============================] - 0s 48us/sample - loss: 0.0789 - val_loss: 0.0032\n",
      "Epoch 7/600\n",
      "4920/4920 [==============================] - 0s 46us/sample - loss: 0.0609 - val_loss: 0.0017\n",
      "Epoch 8/600\n",
      "4920/4920 [==============================] - 0s 49us/sample - loss: 0.0496 - val_loss: 9.3183e-04\n",
      "Epoch 9/600\n",
      "4920/4920 [==============================] - 0s 49us/sample - loss: 0.0387 - val_loss: 5.9136e-04\n",
      "Epoch 10/600\n",
      "4920/4920 [==============================] - 0s 49us/sample - loss: 0.0331 - val_loss: 3.9511e-04\n",
      "Epoch 11/600\n",
      "4920/4920 [==============================] - 0s 46us/sample - loss: 0.0292 - val_loss: 2.3649e-04\n",
      "Epoch 12/600\n",
      "4920/4920 [==============================] - 0s 47us/sample - loss: 0.0246 - val_loss: 1.6402e-04\n",
      "Epoch 13/600\n",
      "4920/4920 [==============================] - 0s 45us/sample - loss: 0.0234 - val_loss: 1.0763e-04\n",
      "Epoch 14/600\n",
      "4920/4920 [==============================] - 0s 46us/sample - loss: 0.0188 - val_loss: 7.3343e-05\n",
      "Epoch 15/600\n",
      "4920/4920 [==============================] - 0s 48us/sample - loss: 0.0159 - val_loss: 6.4844e-05\n",
      "Epoch 16/600\n",
      "4920/4920 [==============================] - 0s 49us/sample - loss: 0.0167 - val_loss: 4.7382e-05\n",
      "Epoch 17/600\n",
      "4920/4920 [==============================] - 0s 50us/sample - loss: 0.0159 - val_loss: 3.1914e-05\n",
      "Epoch 18/600\n",
      "4920/4920 [==============================] - 0s 49us/sample - loss: 0.0143 - val_loss: 2.7669e-05\n",
      "Epoch 19/600\n",
      "4920/4920 [==============================] - 0s 49us/sample - loss: 0.0133 - val_loss: 1.9654e-05\n",
      "Epoch 20/600\n",
      "4920/4920 [==============================] - 0s 45us/sample - loss: 0.0114 - val_loss: 1.9189e-05\n",
      "Epoch 21/600\n",
      "4920/4920 [==============================] - 0s 51us/sample - loss: 0.0118 - val_loss: 1.5037e-05\n",
      "Epoch 22/600\n",
      "4920/4920 [==============================] - 0s 46us/sample - loss: 0.0096 - val_loss: 1.0728e-05\n",
      "Epoch 23/600\n",
      "4920/4920 [==============================] - 0s 46us/sample - loss: 0.0095 - val_loss: 8.1788e-06\n",
      "Epoch 24/600\n",
      "4920/4920 [==============================] - 0s 45us/sample - loss: 0.0088 - val_loss: 6.5128e-06\n",
      "Epoch 25/600\n",
      "4920/4920 [==============================] - 0s 46us/sample - loss: 0.0090 - val_loss: 6.6117e-06\n",
      "Epoch 26/600\n",
      "4920/4920 [==============================] - 0s 46us/sample - loss: 0.0086 - val_loss: 5.3556e-06\n",
      "Epoch 27/600\n",
      "4920/4920 [==============================] - 0s 47us/sample - loss: 0.0083 - val_loss: 2.7389e-06\n",
      "Epoch 28/600\n",
      "4920/4920 [==============================] - 0s 51us/sample - loss: 0.0071 - val_loss: 3.8583e-06\n",
      "Epoch 29/600\n",
      "4920/4920 [==============================] - 0s 46us/sample - loss: 0.0085 - val_loss: 1.9946e-06\n",
      "Epoch 30/600\n",
      "4920/4920 [==============================] - 0s 45us/sample - loss: 0.0068 - val_loss: 1.5265e-06\n",
      "Epoch 31/600\n",
      "4920/4920 [==============================] - 0s 52us/sample - loss: 0.0059 - val_loss: 3.1924e-06\n",
      "Epoch 32/600\n",
      "4920/4920 [==============================] - 0s 46us/sample - loss: 0.0058 - val_loss: 2.1050e-06\n",
      "Epoch 33/600\n",
      "4920/4920 [==============================] - 0s 46us/sample - loss: 0.0077 - val_loss: 1.4305e-06\n",
      "Epoch 34/600\n",
      "4920/4920 [==============================] - 0s 50us/sample - loss: 0.0068 - val_loss: 1.1892e-06\n",
      "Epoch 35/600\n",
      "4920/4920 [==============================] - 0s 46us/sample - loss: 0.0063 - val_loss: 2.0323e-06\n",
      "Epoch 36/600\n",
      "4920/4920 [==============================] - 0s 46us/sample - loss: 0.0060 - val_loss: 8.7808e-07\n",
      "Epoch 37/600\n",
      "4920/4920 [==============================] - 0s 49us/sample - loss: 0.0048 - val_loss: 9.0133e-07\n",
      "Epoch 38/600\n",
      "4920/4920 [==============================] - 0s 47us/sample - loss: 0.0057 - val_loss: 6.6292e-07\n",
      "Epoch 39/600\n",
      "4920/4920 [==============================] - 0s 51us/sample - loss: 0.0051 - val_loss: 8.1993e-07\n",
      "Epoch 40/600\n",
      "4920/4920 [==============================] - 0s 45us/sample - loss: 0.0047 - val_loss: 5.7860e-07\n",
      "Epoch 41/600\n",
      "4920/4920 [==============================] - 0s 46us/sample - loss: 0.0056 - val_loss: 3.4600e-07\n",
      "Epoch 42/600\n",
      "4920/4920 [==============================] - 0s 57us/sample - loss: 0.0059 - val_loss: 3.6053e-07\n",
      "Epoch 43/600\n",
      "4920/4920 [==============================] - 0s 47us/sample - loss: 0.0039 - val_loss: 4.8556e-07\n",
      "Epoch 44/600\n",
      "4920/4920 [==============================] - 0s 51us/sample - loss: 0.0043 - val_loss: 2.7040e-07\n",
      "Epoch 45/600\n",
      "4920/4920 [==============================] - 0s 51us/sample - loss: 0.0049 - val_loss: 4.3322e-07\n",
      "Epoch 46/600\n",
      "4920/4920 [==============================] - 0s 45us/sample - loss: 0.0046 - val_loss: 5.3208e-07\n",
      "Epoch 47/600\n",
      "4920/4920 [==============================] - 0s 51us/sample - loss: 0.0041 - val_loss: 1.7445e-07\n",
      "Epoch 48/600\n",
      "4920/4920 [==============================] - 0s 45us/sample - loss: 0.0044 - val_loss: 5.1463e-07\n",
      "Epoch 49/600\n",
      "4920/4920 [==============================] - 0s 45us/sample - loss: 0.0042 - val_loss: 6.3966e-08\n",
      "Epoch 50/600\n",
      "4920/4920 [==============================] - 0s 46us/sample - loss: 0.0040 - val_loss: 8.1411e-08\n",
      "Epoch 51/600\n",
      "4920/4920 [==============================] - 0s 45us/sample - loss: 0.0037 - val_loss: 1.5701e-07\n",
      "Epoch 52/600\n",
      "4920/4920 [==============================] - 0s 44us/sample - loss: 0.0037 - val_loss: 1.0176e-07\n",
      "Epoch 53/600\n",
      "4920/4920 [==============================] - 0s 45us/sample - loss: 0.0044 - val_loss: 2.5586e-07\n",
      "Epoch 54/600\n",
      "4920/4920 [==============================] - 0s 47us/sample - loss: 0.0037 - val_loss: 6.9781e-08\n",
      "Epoch 55/600\n",
      "4920/4920 [==============================] - 0s 49us/sample - loss: 0.0037 - val_loss: 1.7736e-07\n",
      "Epoch 56/600\n",
      "4920/4920 [==============================] - 0s 46us/sample - loss: 0.0027 - val_loss: 1.4538e-07\n",
      "Epoch 57/600\n",
      "4920/4920 [==============================] - 0s 43us/sample - loss: 0.0039 - val_loss: 4.0706e-08\n",
      "Epoch 58/600\n",
      "4920/4920 [==============================] - 0s 42us/sample - loss: 0.0043 - val_loss: 2.9075e-08\n",
      "Epoch 59/600\n",
      "4920/4920 [==============================] - 0s 43us/sample - loss: 0.0033 - val_loss: 1.7445e-08\n",
      "Epoch 60/600\n",
      "4920/4920 [==============================] - 0s 43us/sample - loss: 0.0032 - val_loss: 4.0706e-08\n",
      "Epoch 61/600\n",
      "4920/4920 [==============================] - 0s 44us/sample - loss: 0.0048 - val_loss: 7.5596e-08\n",
      "Epoch 62/600\n",
      "4920/4920 [==============================] - 0s 44us/sample - loss: 0.0042 - val_loss: 1.9771e-07\n",
      "Epoch 63/600\n",
      "4920/4920 [==============================] - 0s 45us/sample - loss: 0.0027 - val_loss: 3.1983e-08\n",
      "Epoch 64/600\n",
      "4920/4920 [==============================] - 0s 43us/sample - loss: 0.0037 - val_loss: 1.4538e-08\n",
      "Epoch 65/600\n",
      "4920/4920 [==============================] - 0s 44us/sample - loss: 0.0023 - val_loss: 1.1630e-08\n",
      "Epoch 66/600\n",
      "4920/4920 [==============================] - 0s 44us/sample - loss: 0.0025 - val_loss: 2.0353e-08\n",
      "Epoch 67/600\n",
      "4920/4920 [==============================] - 0s 44us/sample - loss: 0.0026 - val_loss: 5.8151e-09\n",
      "Epoch 68/600\n",
      "4920/4920 [==============================] - 0s 43us/sample - loss: 0.0027 - val_loss: 4.3613e-08\n",
      "Epoch 69/600\n",
      "4920/4920 [==============================] - 0s 45us/sample - loss: 0.0023 - val_loss: 1.7445e-08\n",
      "Epoch 70/600\n"
     ]
    },
    {
     "name": "stdout",
     "output_type": "stream",
     "text": [
      "4920/4920 [==============================] - 0s 42us/sample - loss: 0.0026 - val_loss: 2.3260e-08\n",
      "Epoch 71/600\n",
      "4920/4920 [==============================] - 0s 44us/sample - loss: 0.0031 - val_loss: 1.1630e-08\n",
      "Epoch 72/600\n",
      "4920/4920 [==============================] - 0s 44us/sample - loss: 0.0024 - val_loss: 2.0353e-08\n",
      "Epoch 73/600\n",
      "4920/4920 [==============================] - 0s 50us/sample - loss: 0.0016 - val_loss: 1.4538e-08\n",
      "Epoch 74/600\n",
      "4920/4920 [==============================] - 0s 48us/sample - loss: 0.0021 - val_loss: 1.4538e-08\n",
      "Epoch 75/600\n",
      "4920/4920 [==============================] - 0s 47us/sample - loss: 0.0030 - val_loss: 1.7445e-08\n",
      "Epoch 76/600\n",
      "4920/4920 [==============================] - 0s 44us/sample - loss: 0.0024 - val_loss: 2.9075e-09\n",
      "Epoch 77/600\n",
      "4920/4920 [==============================] - 0s 43us/sample - loss: 0.0022 - val_loss: 2.9075e-09\n",
      "Epoch 78/600\n",
      "4920/4920 [==============================] - 0s 43us/sample - loss: 0.0023 - val_loss: 0.0000e+00\n",
      "Epoch 79/600\n",
      "4920/4920 [==============================] - 0s 44us/sample - loss: 0.0020 - val_loss: 1.7445e-08\n",
      "Epoch 80/600\n",
      "4920/4920 [==============================] - 0s 44us/sample - loss: 0.0031 - val_loss: 5.8151e-09\n",
      "Epoch 81/600\n",
      "4920/4920 [==============================] - 0s 43us/sample - loss: 0.0023 - val_loss: 0.0000e+00\n",
      "Epoch 82/600\n",
      "4920/4920 [==============================] - 0s 43us/sample - loss: 0.0023 - val_loss: 2.9075e-09\n",
      "Epoch 83/600\n",
      "4920/4920 [==============================] - 0s 44us/sample - loss: 0.0013 - val_loss: 0.0000e+00\n",
      "Epoch 84/600\n",
      "4920/4920 [==============================] - 0s 44us/sample - loss: 0.0015 - val_loss: 2.9075e-09\n",
      "Epoch 85/600\n",
      "4920/4920 [==============================] - 0s 43us/sample - loss: 0.0028 - val_loss: 2.9075e-09\n",
      "Epoch 86/600\n",
      "4920/4920 [==============================] - 0s 44us/sample - loss: 0.0022 - val_loss: 1.4538e-08\n",
      "Epoch 87/600\n",
      "4920/4920 [==============================] - 0s 43us/sample - loss: 0.0033 - val_loss: 5.8151e-09\n",
      "Epoch 88/600\n",
      "4920/4920 [==============================] - 0s 43us/sample - loss: 0.0030 - val_loss: 8.7226e-09\n",
      "Epoch 89/600\n",
      "4920/4920 [==============================] - 0s 43us/sample - loss: 0.0020 - val_loss: 2.9075e-09\n",
      "Epoch 90/600\n",
      "4920/4920 [==============================] - 0s 43us/sample - loss: 0.0026 - val_loss: 5.8151e-09\n",
      "Epoch 91/600\n",
      "4920/4920 [==============================] - 0s 43us/sample - loss: 0.0034 - val_loss: 5.8151e-09\n",
      "Epoch 92/600\n",
      "4920/4920 [==============================] - 0s 43us/sample - loss: 0.0016 - val_loss: 0.0000e+00\n",
      "Epoch 93/600\n",
      "4920/4920 [==============================] - 0s 43us/sample - loss: 0.0016 - val_loss: 0.0000e+00\n",
      "Epoch 94/600\n",
      "4920/4920 [==============================] - 0s 45us/sample - loss: 0.0020 - val_loss: 0.0000e+00\n",
      "Epoch 95/600\n",
      "4920/4920 [==============================] - 0s 45us/sample - loss: 0.0013 - val_loss: 0.0000e+00\n",
      "Epoch 96/600\n",
      "4920/4920 [==============================] - 0s 44us/sample - loss: 0.0022 - val_loss: 2.9075e-09\n",
      "Epoch 97/600\n",
      "4920/4920 [==============================] - 0s 45us/sample - loss: 0.0026 - val_loss: 1.7445e-08\n",
      "Epoch 98/600\n",
      "4920/4920 [==============================] - 0s 44us/sample - loss: 0.0020 - val_loss: 5.8151e-09\n",
      "Epoch 99/600\n",
      "4920/4920 [==============================] - 0s 43us/sample - loss: 0.0015 - val_loss: 2.9075e-09\n",
      "Epoch 100/600\n",
      "4920/4920 [==============================] - 0s 44us/sample - loss: 0.0013 - val_loss: 0.0000e+00\n",
      "Epoch 101/600\n",
      "4920/4920 [==============================] - 0s 52us/sample - loss: 0.0021 - val_loss: 0.0000e+00\n",
      "Epoch 102/600\n",
      "4920/4920 [==============================] - 0s 44us/sample - loss: 0.0013 - val_loss: 0.0000e+00\n",
      "Epoch 103/600\n",
      "4920/4920 [==============================] - 0s 43us/sample - loss: 0.0016 - val_loss: 0.0000e+00\n",
      "Epoch 00103: early stopping\n"
     ]
    },
    {
     "data": {
      "text/plain": [
       "<tensorflow.python.keras.callbacks.History at 0x25e77427358>"
      ]
     },
     "execution_count": 22,
     "metadata": {},
     "output_type": "execute_result"
    }
   ],
   "source": [
    "model.fit(x=X_train, \n",
    "          y=y_train_encoded, \n",
    "          epochs=600,\n",
    "          validation_data=(X_test, y_test_encoded), verbose=1,\n",
    "          callbacks=[early_stop]\n",
    "          )"
   ]
  },
  {
   "cell_type": "code",
   "execution_count": 23,
   "metadata": {},
   "outputs": [
    {
     "data": {
      "text/plain": [
       "<matplotlib.axes._subplots.AxesSubplot at 0x25e774fa550>"
      ]
     },
     "execution_count": 23,
     "metadata": {},
     "output_type": "execute_result"
    },
    {
     "data": {
      "image/png": "[encoded data removed]",
      "text/plain": [
       "<Figure size 432x288 with 1 Axes>"
      ]
     },
     "metadata": {
      "needs_background": "light"
     },
     "output_type": "display_data"
    }
   ],
   "source": [
    "model_loss = pd.DataFrame(model.history.history)\n",
    "model_loss.plot()"
   ]
  },
  {
   "cell_type": "code",
   "execution_count": 24,
   "metadata": {},
   "outputs": [
    {
     "name": "stdout",
     "output_type": "stream",
     "text": [
      "[1 0 0 0 0 0 0 0 0 0 0 1 0 0 0 0 0 0 0 0 0 0 0 0 0 0 0 0 0 0 0 0 1 0 1 1 0\n",
      " 0 0 1 0 0 0 1 0 0 0 0 0 0 0 0 0 0 0 0 0 0 0 0 0 0 0 0 0 0 0 0 0 0 0 0 0 0\n",
      " 0 0 0 0 0 0 0 0 0 0 0 0 0 0 0 0 0 0 0 0 0 0 0 0 0 0 0 0 0 0 0 0 0 0 0 0 0\n",
      " 0 0 0 0 0 0 0 0 0 0 0 0 0 0 0 0 0 0 0 0 0]\n"
     ]
    }
   ],
   "source": [
    "print(X_test[3])\n",
    "test = np.reshape(X_test[3],(1,132))\n",
    "predictions = model.predict_classes(test)"
   ]
  },
  {
   "cell_type": "code",
   "execution_count": 25,
   "metadata": {},
   "outputs": [
    {
     "name": "stdout",
     "output_type": "stream",
     "text": [
      "[9]\n",
      "9\n"
     ]
    }
   ],
   "source": [
    "print(predictions)\n",
    "print(y_test_encoded[3])"
   ]
  },
  {
   "cell_type": "code",
   "execution_count": 15,
   "metadata": {},
   "outputs": [
    {
     "ename": "ValueError",
     "evalue": "Found input variables with inconsistent numbers of samples: [41, 1]",
     "output_type": "error",
     "traceback": [
      "\u001b[1;31m---------------------------------------------------------------------------\u001b[0m",
      "\u001b[1;31mValueError\u001b[0m                                Traceback (most recent call last)",
      "\u001b[1;32m<ipython-input-15-09841bb8bb94>\u001b[0m in \u001b[0;36m<module>\u001b[1;34m\u001b[0m\n\u001b[0;32m      1\u001b[0m \u001b[1;32mfrom\u001b[0m \u001b[0msklearn\u001b[0m\u001b[1;33m.\u001b[0m\u001b[0mmetrics\u001b[0m \u001b[1;32mimport\u001b[0m \u001b[0mclassification_report\u001b[0m\u001b[1;33m,\u001b[0m\u001b[0mconfusion_matrix\u001b[0m\u001b[1;33m\u001b[0m\u001b[1;33m\u001b[0m\u001b[0m\n\u001b[1;32m----> 2\u001b[1;33m \u001b[0mprint\u001b[0m\u001b[1;33m(\u001b[0m\u001b[0mclassification_report\u001b[0m\u001b[1;33m(\u001b[0m\u001b[0my_test_encoded\u001b[0m\u001b[1;33m,\u001b[0m\u001b[0mpredictions\u001b[0m\u001b[1;33m)\u001b[0m\u001b[1;33m)\u001b[0m\u001b[1;33m\u001b[0m\u001b[1;33m\u001b[0m\u001b[0m\n\u001b[0m",
      "\u001b[1;32m~\\Anaconda3\\lib\\site-packages\\sklearn\\metrics\\_classification.py\u001b[0m in \u001b[0;36mclassification_report\u001b[1;34m(y_true, y_pred, labels, target_names, sample_weight, digits, output_dict, zero_division)\u001b[0m\n\u001b[0;32m   1965\u001b[0m     \"\"\"\n\u001b[0;32m   1966\u001b[0m \u001b[1;33m\u001b[0m\u001b[0m\n\u001b[1;32m-> 1967\u001b[1;33m     \u001b[0my_type\u001b[0m\u001b[1;33m,\u001b[0m \u001b[0my_true\u001b[0m\u001b[1;33m,\u001b[0m \u001b[0my_pred\u001b[0m \u001b[1;33m=\u001b[0m \u001b[0m_check_targets\u001b[0m\u001b[1;33m(\u001b[0m\u001b[0my_true\u001b[0m\u001b[1;33m,\u001b[0m \u001b[0my_pred\u001b[0m\u001b[1;33m)\u001b[0m\u001b[1;33m\u001b[0m\u001b[1;33m\u001b[0m\u001b[0m\n\u001b[0m\u001b[0;32m   1968\u001b[0m \u001b[1;33m\u001b[0m\u001b[0m\n\u001b[0;32m   1969\u001b[0m     \u001b[0mlabels_given\u001b[0m \u001b[1;33m=\u001b[0m \u001b[1;32mTrue\u001b[0m\u001b[1;33m\u001b[0m\u001b[1;33m\u001b[0m\u001b[0m\n",
      "\u001b[1;32m~\\Anaconda3\\lib\\site-packages\\sklearn\\metrics\\_classification.py\u001b[0m in \u001b[0;36m_check_targets\u001b[1;34m(y_true, y_pred)\u001b[0m\n\u001b[0;32m     78\u001b[0m     \u001b[0my_pred\u001b[0m \u001b[1;33m:\u001b[0m \u001b[0marray\u001b[0m \u001b[1;32mor\u001b[0m \u001b[0mindicator\u001b[0m \u001b[0mmatrix\u001b[0m\u001b[1;33m\u001b[0m\u001b[1;33m\u001b[0m\u001b[0m\n\u001b[0;32m     79\u001b[0m     \"\"\"\n\u001b[1;32m---> 80\u001b[1;33m     \u001b[0mcheck_consistent_length\u001b[0m\u001b[1;33m(\u001b[0m\u001b[0my_true\u001b[0m\u001b[1;33m,\u001b[0m \u001b[0my_pred\u001b[0m\u001b[1;33m)\u001b[0m\u001b[1;33m\u001b[0m\u001b[1;33m\u001b[0m\u001b[0m\n\u001b[0m\u001b[0;32m     81\u001b[0m     \u001b[0mtype_true\u001b[0m \u001b[1;33m=\u001b[0m \u001b[0mtype_of_target\u001b[0m\u001b[1;33m(\u001b[0m\u001b[0my_true\u001b[0m\u001b[1;33m)\u001b[0m\u001b[1;33m\u001b[0m\u001b[1;33m\u001b[0m\u001b[0m\n\u001b[0;32m     82\u001b[0m     \u001b[0mtype_pred\u001b[0m \u001b[1;33m=\u001b[0m \u001b[0mtype_of_target\u001b[0m\u001b[1;33m(\u001b[0m\u001b[0my_pred\u001b[0m\u001b[1;33m)\u001b[0m\u001b[1;33m\u001b[0m\u001b[1;33m\u001b[0m\u001b[0m\n",
      "\u001b[1;32m~\\Anaconda3\\lib\\site-packages\\sklearn\\utils\\validation.py\u001b[0m in \u001b[0;36mcheck_consistent_length\u001b[1;34m(*arrays)\u001b[0m\n\u001b[0;32m    210\u001b[0m     \u001b[1;32mif\u001b[0m \u001b[0mlen\u001b[0m\u001b[1;33m(\u001b[0m\u001b[0muniques\u001b[0m\u001b[1;33m)\u001b[0m \u001b[1;33m>\u001b[0m \u001b[1;36m1\u001b[0m\u001b[1;33m:\u001b[0m\u001b[1;33m\u001b[0m\u001b[1;33m\u001b[0m\u001b[0m\n\u001b[0;32m    211\u001b[0m         raise ValueError(\"Found input variables with inconsistent numbers of\"\n\u001b[1;32m--> 212\u001b[1;33m                          \" samples: %r\" % [int(l) for l in lengths])\n\u001b[0m\u001b[0;32m    213\u001b[0m \u001b[1;33m\u001b[0m\u001b[0m\n\u001b[0;32m    214\u001b[0m \u001b[1;33m\u001b[0m\u001b[0m\n",
      "\u001b[1;31mValueError\u001b[0m: Found input variables with inconsistent numbers of samples: [41, 1]"
     ]
    }
   ],
   "source": [
    "from sklearn.metrics import classification_report,confusion_matrix\n",
    "print(classification_report(y_test_encoded,predictions))"
   ]
  },
  {
   "cell_type": "code",
   "execution_count": null,
   "metadata": {},
   "outputs": [],
   "source": []
  }
 ],
 "metadata": {
  "kernelspec": {
   "display_name": "Python 3",
   "language": "python",
   "name": "python3"
  },
  "language_info": {
   "codemirror_mode": {
    "name": "ipython",
    "version": 3
   },
   "file_extension": ".py",
   "mimetype": "text/x-python",
   "name": "python",
   "nbconvert_exporter": "python",
   "pygments_lexer": "ipython3",
   "version": "3.7.3"
  }
 },
 "nbformat": 4,
 "nbformat_minor": 2
}
